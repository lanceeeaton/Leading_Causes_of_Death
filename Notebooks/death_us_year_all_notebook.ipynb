{
  "nbformat": 4,
  "nbformat_minor": 0,
  "metadata": {
    "colab": {
      "name": "death_us_year_all_notebook.ipynb",
      "version": "0.3.2",
      "provenance": [],
      "collapsed_sections": []
    },
    "kernelspec": {
      "name": "python3",
      "display_name": "Python 3"
    }
  },
  "cells": [
    {
      "metadata": {
        "id": "g-SKKlyfi7zk",
        "colab_type": "code",
        "colab": {}
      },
      "cell_type": "code",
      "source": [
        "import numpy as np\n",
        "import pandas as pd\n",
        "import matplotlib.pyplot as plt\n",
        "%matplotlib inline\n",
        "import seaborn as sns\n"
      ],
      "execution_count": 0,
      "outputs": []
    },
    {
      "metadata": {
        "id": "9qxhRMNApLyx",
        "colab_type": "code",
        "outputId": "bd6edd2b-f421-468a-d834-5b76e20bd9e5",
        "colab": {
          "base_uri": "https://localhost:8080/",
          "height": 297
        }
      },
      "cell_type": "code",
      "source": [
        "death_us_year_all = pd.read_csv('https://raw.githubusercontent.com/lanceeeaton/Leading_Causes_of_Death/master/Data/death_us_year_all.csv')\n",
        "death_us_year_all.rename(columns={'Age-adjusted Death Rate':'Adj-Deaths'}, inplace=True)\n",
        "death_us_year_all.describe()"
      ],
      "execution_count": 2,
      "outputs": [
        {
          "output_type": "execute_result",
          "data": {
            "text/html": [
              "<div>\n",
              "<style scoped>\n",
              "    .dataframe tbody tr th:only-of-type {\n",
              "        vertical-align: middle;\n",
              "    }\n",
              "\n",
              "    .dataframe tbody tr th {\n",
              "        vertical-align: top;\n",
              "    }\n",
              "\n",
              "    .dataframe thead th {\n",
              "        text-align: right;\n",
              "    }\n",
              "</style>\n",
              "<table border=\"1\" class=\"dataframe\">\n",
              "  <thead>\n",
              "    <tr style=\"text-align: right;\">\n",
              "      <th></th>\n",
              "      <th>Year</th>\n",
              "      <th>Deaths</th>\n",
              "      <th>Adj-Deaths</th>\n",
              "    </tr>\n",
              "  </thead>\n",
              "  <tbody>\n",
              "    <tr>\n",
              "      <th>count</th>\n",
              "      <td>18.000000</td>\n",
              "      <td>1.800000e+01</td>\n",
              "      <td>18.000000</td>\n",
              "    </tr>\n",
              "    <tr>\n",
              "      <th>mean</th>\n",
              "      <td>2007.500000</td>\n",
              "      <td>2.471683e+06</td>\n",
              "      <td>780.544444</td>\n",
              "    </tr>\n",
              "    <tr>\n",
              "      <th>std</th>\n",
              "      <td>5.338539</td>\n",
              "      <td>9.549845e+04</td>\n",
              "      <td>66.784387</td>\n",
              "    </tr>\n",
              "    <tr>\n",
              "      <th>min</th>\n",
              "      <td>1999.000000</td>\n",
              "      <td>2.319475e+06</td>\n",
              "      <td>616.000000</td>\n",
              "    </tr>\n",
              "    <tr>\n",
              "      <th>25%</th>\n",
              "      <td>2003.250000</td>\n",
              "      <td>2.418247e+06</td>\n",
              "      <td>735.150000</td>\n",
              "    </tr>\n",
              "    <tr>\n",
              "      <th>50%</th>\n",
              "      <td>2007.500000</td>\n",
              "      <td>2.445702e+06</td>\n",
              "      <td>775.100000</td>\n",
              "    </tr>\n",
              "    <tr>\n",
              "      <th>75%</th>\n",
              "      <td>2011.750000</td>\n",
              "      <td>2.504590e+06</td>\n",
              "      <td>836.375000</td>\n",
              "    </tr>\n",
              "    <tr>\n",
              "      <th>max</th>\n",
              "      <td>2016.000000</td>\n",
              "      <td>2.712630e+06</td>\n",
              "      <td>875.600000</td>\n",
              "    </tr>\n",
              "  </tbody>\n",
              "</table>\n",
              "</div>"
            ],
            "text/plain": [
              "              Year        Deaths  Adj-Deaths\n",
              "count    18.000000  1.800000e+01   18.000000\n",
              "mean   2007.500000  2.471683e+06  780.544444\n",
              "std       5.338539  9.549845e+04   66.784387\n",
              "min    1999.000000  2.319475e+06  616.000000\n",
              "25%    2003.250000  2.418247e+06  735.150000\n",
              "50%    2007.500000  2.445702e+06  775.100000\n",
              "75%    2011.750000  2.504590e+06  836.375000\n",
              "max    2016.000000  2.712630e+06  875.600000"
            ]
          },
          "metadata": {
            "tags": []
          },
          "execution_count": 2
        }
      ]
    },
    {
      "metadata": {
        "id": "WouClF3lr59l",
        "colab_type": "code",
        "outputId": "4d50bbfe-0547-489c-ec4c-32c364f37372",
        "colab": {
          "base_uri": "https://localhost:8080/",
          "height": 195
        }
      },
      "cell_type": "code",
      "source": [
        "death_us_year_all.head()"
      ],
      "execution_count": 0,
      "outputs": [
        {
          "output_type": "execute_result",
          "data": {
            "text/html": [
              "<div>\n",
              "<style scoped>\n",
              "    .dataframe tbody tr th:only-of-type {\n",
              "        vertical-align: middle;\n",
              "    }\n",
              "\n",
              "    .dataframe tbody tr th {\n",
              "        vertical-align: top;\n",
              "    }\n",
              "\n",
              "    .dataframe thead th {\n",
              "        text-align: right;\n",
              "    }\n",
              "</style>\n",
              "<table border=\"1\" class=\"dataframe\">\n",
              "  <thead>\n",
              "    <tr style=\"text-align: right;\">\n",
              "      <th></th>\n",
              "      <th>Year</th>\n",
              "      <th>Cause Name</th>\n",
              "      <th>State</th>\n",
              "      <th>Deaths</th>\n",
              "      <th>Adj-Deaths</th>\n",
              "    </tr>\n",
              "  </thead>\n",
              "  <tbody>\n",
              "    <tr>\n",
              "      <th>0</th>\n",
              "      <td>2016</td>\n",
              "      <td>All causes</td>\n",
              "      <td>United States</td>\n",
              "      <td>2319475</td>\n",
              "      <td>616.0</td>\n",
              "    </tr>\n",
              "    <tr>\n",
              "      <th>1</th>\n",
              "      <td>2015</td>\n",
              "      <td>All causes</td>\n",
              "      <td>United States</td>\n",
              "      <td>2712630</td>\n",
              "      <td>733.1</td>\n",
              "    </tr>\n",
              "    <tr>\n",
              "      <th>2</th>\n",
              "      <td>2014</td>\n",
              "      <td>All causes</td>\n",
              "      <td>United States</td>\n",
              "      <td>2626418</td>\n",
              "      <td>724.6</td>\n",
              "    </tr>\n",
              "    <tr>\n",
              "      <th>3</th>\n",
              "      <td>2013</td>\n",
              "      <td>All causes</td>\n",
              "      <td>United States</td>\n",
              "      <td>2596993</td>\n",
              "      <td>731.9</td>\n",
              "    </tr>\n",
              "    <tr>\n",
              "      <th>4</th>\n",
              "      <td>2012</td>\n",
              "      <td>All causes</td>\n",
              "      <td>United States</td>\n",
              "      <td>2543279</td>\n",
              "      <td>732.8</td>\n",
              "    </tr>\n",
              "  </tbody>\n",
              "</table>\n",
              "</div>"
            ],
            "text/plain": [
              "   Year  Cause Name          State   Deaths  Adj-Deaths\n",
              "0  2016  All causes  United States  2319475       616.0\n",
              "1  2015  All causes  United States  2712630       733.1\n",
              "2  2014  All causes  United States  2626418       724.6\n",
              "3  2013  All causes  United States  2596993       731.9\n",
              "4  2012  All causes  United States  2543279       732.8"
            ]
          },
          "metadata": {
            "tags": []
          },
          "execution_count": 9
        }
      ]
    },
    {
      "metadata": {
        "id": "0L-GiCBFjPD7",
        "colab_type": "code",
        "outputId": "959ff3ff-fa4e-4d8b-a144-a02ce852ccea",
        "colab": {
          "base_uri": "https://localhost:8080/",
          "height": 528
        }
      },
      "cell_type": "code",
      "source": [
        "death_us_year_all.hist(bins = 9, figsize = (7,7))"
      ],
      "execution_count": 0,
      "outputs": [
        {
          "output_type": "execute_result",
          "data": {
            "text/plain": [
              "array([[<matplotlib.axes._subplots.AxesSubplot object at 0x7f3a25379ef0>,\n",
              "        <matplotlib.axes._subplots.AxesSubplot object at 0x7f3a2535b1d0>],\n",
              "       [<matplotlib.axes._subplots.AxesSubplot object at 0x7f3a253016d8>,\n",
              "        <matplotlib.axes._subplots.AxesSubplot object at 0x7f3a252aac50>]],\n",
              "      dtype=object)"
            ]
          },
          "metadata": {
            "tags": []
          },
          "execution_count": 4
        },
        {
          "output_type": "display_data",
          "data": {
            "image/png": "[encoded data removed]",
            "text/plain": [
              "<Figure size 504x504 with 4 Axes>"
            ]
          },
          "metadata": {
            "tags": []
          }
        }
      ]
    },
    {
      "metadata": {
        "id": "kpc0kcZSpG5R",
        "colab_type": "code",
        "outputId": "f0bdde50-f2a2-430b-d575-4bdd9b484580",
        "colab": {
          "base_uri": "https://localhost:8080/",
          "height": 300
        }
      },
      "cell_type": "code",
      "source": [
        "sns.scatterplot(x = death_us_year_all['Year'], y = death_us_year_all['Adj-Deaths'] )"
      ],
      "execution_count": 0,
      "outputs": [
        {
          "output_type": "execute_result",
          "data": {
            "text/plain": [
              "<matplotlib.axes._subplots.AxesSubplot at 0x7f3a22ec9048>"
            ]
          },
          "metadata": {
            "tags": []
          },
          "execution_count": 10
        },
        {
          "output_type": "display_data",
          "data": {
            "image/png": "[encoded data removed]",
            "text/plain": [
              "<Figure size 432x288 with 1 Axes>"
            ]
          },
          "metadata": {
            "tags": []
          }
        }
      ]
    }
  ]
}