{
  "nbformat": 4,
  "nbformat_minor": 0,
  "metadata": {
    "colab": {
      "name": "death_state_year_cause.ipynb",
      "version": "0.3.2",
      "provenance": [],
      "collapsed_sections": []
    },
    "kernelspec": {
      "name": "python3",
      "display_name": "Python 3"
    }
  },
  "cells": [
    {
      "metadata": {
        "id": "WB5R-Gu8gxH6",
        "colab_type": "code",
        "colab": {}
      },
      "cell_type": "code",
      "source": [
        "import numpy as np\n",
        "import pandas as pd\n",
        "import matplotlib.pyplot as plt\n",
        "%matplotlib inline\n",
        "import seaborn as sns\n",
        "\n",
        "death_state_year_cause = pd.read_csv('https://raw.githubusercontent.com/lanceeeaton/Leading_Causes_of_Death/master/death_state_year_cause.csv')\n",
        "death_state_year_cause.rename(columns={'Age-adjusted Death Rate':'Adj-Deaths'}, inplace=True)\n",
        "\n",
        "causes = death_state_year_cause['Cause Name'].unique()\n",
        "states = death_state_year_cause['State'].unique()\n",
        "years = death_state_year_cause['Year'].unique()"
      ],
      "execution_count": 0,
      "outputs": []
    },
    {
      "metadata": {
        "id": "hpk31EX-ReVY",
        "colab_type": "text"
      },
      "cell_type": "markdown",
      "source": [
        "## Checking for nulls"
      ]
    },
    {
      "metadata": {
        "id": "kd14wmiI9Gco",
        "colab_type": "code",
        "outputId": "1d77c27a-53d5-4907-f2db-5baf3a0bcc2d",
        "colab": {
          "base_uri": "https://localhost:8080/",
          "height": 34
        }
      },
      "cell_type": "code",
      "source": [
        "death_state_year_cause.isnull().values.any()"
      ],
      "execution_count": 35,
      "outputs": [
        {
          "output_type": "execute_result",
          "data": {
            "text/plain": [
              "False"
            ]
          },
          "metadata": {
            "tags": []
          },
          "execution_count": 35
        }
      ]
    },
    {
      "metadata": {
        "id": "bsc4VGqHRitN",
        "colab_type": "text"
      },
      "cell_type": "markdown",
      "source": [
        "## Some stats on our data"
      ]
    },
    {
      "metadata": {
        "id": "58ADvOdy7sO9",
        "colab_type": "code",
        "outputId": "aca80f3b-e996-4644-a322-c8e06e9a4692",
        "colab": {
          "base_uri": "https://localhost:8080/",
          "height": 284
        }
      },
      "cell_type": "code",
      "source": [
        "death_state_year_cause.describe()"
      ],
      "execution_count": 36,
      "outputs": [
        {
          "output_type": "execute_result",
          "data": {
            "text/html": [
              "<div>\n",
              "<style scoped>\n",
              "    .dataframe tbody tr th:only-of-type {\n",
              "        vertical-align: middle;\n",
              "    }\n",
              "\n",
              "    .dataframe tbody tr th {\n",
              "        vertical-align: top;\n",
              "    }\n",
              "\n",
              "    .dataframe thead th {\n",
              "        text-align: right;\n",
              "    }\n",
              "</style>\n",
              "<table border=\"1\" class=\"dataframe\">\n",
              "  <thead>\n",
              "    <tr style=\"text-align: right;\">\n",
              "      <th></th>\n",
              "      <th>Year</th>\n",
              "      <th>Deaths</th>\n",
              "      <th>Adj-Deaths</th>\n",
              "    </tr>\n",
              "  </thead>\n",
              "  <tbody>\n",
              "    <tr>\n",
              "      <th>count</th>\n",
              "      <td>9180.00000</td>\n",
              "      <td>9180.000000</td>\n",
              "      <td>9180.000000</td>\n",
              "    </tr>\n",
              "    <tr>\n",
              "      <th>mean</th>\n",
              "      <td>2007.50000</td>\n",
              "      <td>3725.386928</td>\n",
              "      <td>60.751046</td>\n",
              "    </tr>\n",
              "    <tr>\n",
              "      <th>std</th>\n",
              "      <td>5.18841</td>\n",
              "      <td>7161.711981</td>\n",
              "      <td>67.906774</td>\n",
              "    </tr>\n",
              "    <tr>\n",
              "      <th>min</th>\n",
              "      <td>1999.00000</td>\n",
              "      <td>21.000000</td>\n",
              "      <td>2.600000</td>\n",
              "    </tr>\n",
              "    <tr>\n",
              "      <th>25%</th>\n",
              "      <td>2003.00000</td>\n",
              "      <td>526.000000</td>\n",
              "      <td>18.300000</td>\n",
              "    </tr>\n",
              "    <tr>\n",
              "      <th>50%</th>\n",
              "      <td>2007.50000</td>\n",
              "      <td>1401.500000</td>\n",
              "      <td>31.400000</td>\n",
              "    </tr>\n",
              "    <tr>\n",
              "      <th>75%</th>\n",
              "      <td>2012.00000</td>\n",
              "      <td>3228.250000</td>\n",
              "      <td>54.900000</td>\n",
              "    </tr>\n",
              "    <tr>\n",
              "      <th>max</th>\n",
              "      <td>2016.00000</td>\n",
              "      <td>71930.000000</td>\n",
              "      <td>347.400000</td>\n",
              "    </tr>\n",
              "  </tbody>\n",
              "</table>\n",
              "</div>"
            ],
            "text/plain": [
              "             Year        Deaths   Adj-Deaths\n",
              "count  9180.00000   9180.000000  9180.000000\n",
              "mean   2007.50000   3725.386928    60.751046\n",
              "std       5.18841   7161.711981    67.906774\n",
              "min    1999.00000     21.000000     2.600000\n",
              "25%    2003.00000    526.000000    18.300000\n",
              "50%    2007.50000   1401.500000    31.400000\n",
              "75%    2012.00000   3228.250000    54.900000\n",
              "max    2016.00000  71930.000000   347.400000"
            ]
          },
          "metadata": {
            "tags": []
          },
          "execution_count": 36
        }
      ]
    },
    {
      "metadata": {
        "id": "oKmhYq2BRqQP",
        "colab_type": "text"
      },
      "cell_type": "markdown",
      "source": [
        "## Looking at observations with lowest death number"
      ]
    },
    {
      "metadata": {
        "id": "3DTwYQES_R3k",
        "colab_type": "code",
        "outputId": "7e0611cb-b226-4de6-bc31-c3b2698904fe",
        "colab": {
          "base_uri": "https://localhost:8080/",
          "height": 106
        }
      },
      "cell_type": "code",
      "source": [
        "death_state_year_cause[death_state_year_cause['Deaths'] == 21.0]"
      ],
      "execution_count": 37,
      "outputs": [
        {
          "output_type": "execute_result",
          "data": {
            "text/html": [
              "<div>\n",
              "<style scoped>\n",
              "    .dataframe tbody tr th:only-of-type {\n",
              "        vertical-align: middle;\n",
              "    }\n",
              "\n",
              "    .dataframe tbody tr th {\n",
              "        vertical-align: top;\n",
              "    }\n",
              "\n",
              "    .dataframe thead th {\n",
              "        text-align: right;\n",
              "    }\n",
              "</style>\n",
              "<table border=\"1\" class=\"dataframe\">\n",
              "  <thead>\n",
              "    <tr style=\"text-align: right;\">\n",
              "      <th></th>\n",
              "      <th>Year</th>\n",
              "      <th>Cause Name</th>\n",
              "      <th>State</th>\n",
              "      <th>Deaths</th>\n",
              "      <th>Adj-Deaths</th>\n",
              "    </tr>\n",
              "  </thead>\n",
              "  <tbody>\n",
              "    <tr>\n",
              "      <th>9088</th>\n",
              "      <td>2002</td>\n",
              "      <td>Kidney disease</td>\n",
              "      <td>Alaska</td>\n",
              "      <td>21</td>\n",
              "      <td>6.8</td>\n",
              "    </tr>\n",
              "    <tr>\n",
              "      <th>9179</th>\n",
              "      <td>2012</td>\n",
              "      <td>Kidney disease</td>\n",
              "      <td>Vermont</td>\n",
              "      <td>21</td>\n",
              "      <td>2.6</td>\n",
              "    </tr>\n",
              "  </tbody>\n",
              "</table>\n",
              "</div>"
            ],
            "text/plain": [
              "      Year      Cause Name    State  Deaths  Adj-Deaths\n",
              "9088  2002  Kidney disease   Alaska      21         6.8\n",
              "9179  2012  Kidney disease  Vermont      21         2.6"
            ]
          },
          "metadata": {
            "tags": []
          },
          "execution_count": 37
        }
      ]
    },
    {
      "metadata": {
        "id": "rA-J-hB8R_3a",
        "colab_type": "text"
      },
      "cell_type": "markdown",
      "source": [
        "## Looking at observations with highest death number"
      ]
    },
    {
      "metadata": {
        "id": "HMvlOw6Y_hSw",
        "colab_type": "code",
        "outputId": "26e53063-43fc-425e-cd5c-1dc61bef56ec",
        "colab": {
          "base_uri": "https://localhost:8080/",
          "height": 77
        }
      },
      "cell_type": "code",
      "source": [
        "death_state_year_cause[death_state_year_cause['Deaths'] == 71930.0]"
      ],
      "execution_count": 38,
      "outputs": [
        {
          "output_type": "execute_result",
          "data": {
            "text/html": [
              "<div>\n",
              "<style scoped>\n",
              "    .dataframe tbody tr th:only-of-type {\n",
              "        vertical-align: middle;\n",
              "    }\n",
              "\n",
              "    .dataframe tbody tr th {\n",
              "        vertical-align: top;\n",
              "    }\n",
              "\n",
              "    .dataframe thead th {\n",
              "        text-align: right;\n",
              "    }\n",
              "</style>\n",
              "<table border=\"1\" class=\"dataframe\">\n",
              "  <thead>\n",
              "    <tr style=\"text-align: right;\">\n",
              "      <th></th>\n",
              "      <th>Year</th>\n",
              "      <th>Cause Name</th>\n",
              "      <th>State</th>\n",
              "      <th>Deaths</th>\n",
              "      <th>Adj-Deaths</th>\n",
              "    </tr>\n",
              "  </thead>\n",
              "  <tbody>\n",
              "    <tr>\n",
              "      <th>109</th>\n",
              "      <td>1999</td>\n",
              "      <td>Heart disease</td>\n",
              "      <td>California</td>\n",
              "      <td>71930</td>\n",
              "      <td>257.3</td>\n",
              "    </tr>\n",
              "  </tbody>\n",
              "</table>\n",
              "</div>"
            ],
            "text/plain": [
              "     Year     Cause Name       State  Deaths  Adj-Deaths\n",
              "109  1999  Heart disease  California   71930       257.3"
            ]
          },
          "metadata": {
            "tags": []
          },
          "execution_count": 38
        }
      ]
    },
    {
      "metadata": {
        "id": "pIGQqXpzYI34",
        "colab_type": "text"
      },
      "cell_type": "markdown",
      "source": [
        "## Ranking the causes by least deaths to most"
      ]
    },
    {
      "metadata": {
        "id": "UDQzoNF7YGEQ",
        "colab_type": "code",
        "colab": {}
      },
      "cell_type": "code",
      "source": [
        "death_rank = death_state_year_cause.groupby(['Cause Name']).sum().sort_values(['Deaths'])"
      ],
      "execution_count": 0,
      "outputs": []
    },
    {
      "metadata": {
        "id": "v0MaMtEvaVh6",
        "colab_type": "code",
        "outputId": "71b7e852-10cf-4690-96a0-f5358329cdaf",
        "colab": {
          "base_uri": "https://localhost:8080/",
          "height": 218
        }
      },
      "cell_type": "code",
      "source": [
        "death_rank['Deaths']"
      ],
      "execution_count": 40,
      "outputs": [
        {
          "output_type": "execute_result",
          "data": {
            "text/plain": [
              "Cause Name\n",
              "Suicide                      649843\n",
              "Kidney disease               807980\n",
              "Influenza and pneumonia     1038969\n",
              "Diabetes                    1316379\n",
              "Alzheimer's disease         1373412\n",
              "Unintentional injuries      2177884\n",
              "CLRD                        2434726\n",
              "Stroke                      2580140\n",
              "Cancer                     10244536\n",
              "Heart disease              11575183\n",
              "Name: Deaths, dtype: int64"
            ]
          },
          "metadata": {
            "tags": []
          },
          "execution_count": 40
        }
      ]
    },
    {
      "metadata": {
        "id": "H6NZLYzqgsCf",
        "colab_type": "text"
      },
      "cell_type": "markdown",
      "source": [
        "## Visualizing our ranking in a pie chart"
      ]
    },
    {
      "metadata": {
        "id": "fI5YfnmcYj0z",
        "colab_type": "code",
        "outputId": "b9ea5a80-fc0c-424d-f1ad-1009c7b7a447",
        "colab": {
          "base_uri": "https://localhost:8080/",
          "height": 257
        }
      },
      "cell_type": "code",
      "source": [
        "sizes = death_rank['Deaths'].values\n",
        "labels = death_rank.index.tolist()\n",
        "colors = ['#ff6961','#77dd77','#fdfd96','#aec6cf','#ffb347','#b19cd9','#6b9aea','#f49ac2','#A8C854','#ffd1dc']\n",
        "\n",
        "fig1, ax1 = plt.subplots()\n",
        "ax1.pie(sizes, colors = colors, labels = labels, autopct = '%1.1f%%')\n",
        "ax1.axis('equal')\n",
        "plt.show()"
      ],
      "execution_count": 41,
      "outputs": [
        {
          "output_type": "display_data",
          "data": {
            "image/png": "[encoded data removed]",
            "text/plain": [
              "<Figure size 432x288 with 1 Axes>"
            ]
          },
          "metadata": {
            "tags": []
          }
        }
      ]
    },
    {
      "metadata": {
        "id": "ZEPE6QR_SI_a",
        "colab_type": "text"
      },
      "cell_type": "markdown",
      "source": [
        "## Checking distribution of each numerical feature"
      ]
    },
    {
      "metadata": {
        "id": "yH-83SUczLMg",
        "colab_type": "code",
        "outputId": "ff14a7f1-5afc-48e8-c1db-727899587441",
        "colab": {
          "base_uri": "https://localhost:8080/",
          "height": 528
        }
      },
      "cell_type": "code",
      "source": [
        "death_state_year_cause.hist(bins = 18, figsize = (7,7))"
      ],
      "execution_count": 42,
      "outputs": [
        {
          "output_type": "execute_result",
          "data": {
            "text/plain": [
              "array([[<matplotlib.axes._subplots.AxesSubplot object at 0x7f05804254a8>,\n",
              "        <matplotlib.axes._subplots.AxesSubplot object at 0x7f05803b2be0>],\n",
              "       [<matplotlib.axes._subplots.AxesSubplot object at 0x7f0580362198>,\n",
              "        <matplotlib.axes._subplots.AxesSubplot object at 0x7f0580309710>]],\n",
              "      dtype=object)"
            ]
          },
          "metadata": {
            "tags": []
          },
          "execution_count": 42
        },
        {
          "output_type": "display_data",
          "data": {
            "image/png": "[encoded data removed]",
            "text/plain": [
              "<Figure size 504x504 with 4 Axes>"
            ]
          },
          "metadata": {
            "tags": []
          }
        }
      ]
    },
    {
      "metadata": {
        "id": "JtjYLtJLXs2G",
        "colab_type": "text"
      },
      "cell_type": "markdown",
      "source": [
        "I believe this is skew is because causes like heart disease and cancer account for many more deaths then causes like suicide and kidney disease.  Only 20% of our observations are for heart disease and cancer but they account 63% of the total deaths. So, 80% of our data is split between 8 different causes so most observations contain a lower number for deaths."
      ]
    },
    {
      "metadata": {
        "id": "N7QSnccCuxHg",
        "colab_type": "code",
        "outputId": "e821e40e-3c7c-46fa-82d0-9365c47a8f91",
        "colab": {
          "base_uri": "https://localhost:8080/",
          "height": 136
        }
      },
      "cell_type": "code",
      "source": [
        "death_state_year_cause.corr()"
      ],
      "execution_count": 43,
      "outputs": [
        {
          "output_type": "execute_result",
          "data": {
            "text/html": [
              "<div>\n",
              "<style scoped>\n",
              "    .dataframe tbody tr th:only-of-type {\n",
              "        vertical-align: middle;\n",
              "    }\n",
              "\n",
              "    .dataframe tbody tr th {\n",
              "        vertical-align: top;\n",
              "    }\n",
              "\n",
              "    .dataframe thead th {\n",
              "        text-align: right;\n",
              "    }\n",
              "</style>\n",
              "<table border=\"1\" class=\"dataframe\">\n",
              "  <thead>\n",
              "    <tr style=\"text-align: right;\">\n",
              "      <th></th>\n",
              "      <th>Year</th>\n",
              "      <th>Deaths</th>\n",
              "      <th>Adj-Deaths</th>\n",
              "    </tr>\n",
              "  </thead>\n",
              "  <tbody>\n",
              "    <tr>\n",
              "      <th>Year</th>\n",
              "      <td>1.000000</td>\n",
              "      <td>0.005517</td>\n",
              "      <td>-0.075103</td>\n",
              "    </tr>\n",
              "    <tr>\n",
              "      <th>Deaths</th>\n",
              "      <td>0.005517</td>\n",
              "      <td>1.000000</td>\n",
              "      <td>0.583347</td>\n",
              "    </tr>\n",
              "    <tr>\n",
              "      <th>Adj-Deaths</th>\n",
              "      <td>-0.075103</td>\n",
              "      <td>0.583347</td>\n",
              "      <td>1.000000</td>\n",
              "    </tr>\n",
              "  </tbody>\n",
              "</table>\n",
              "</div>"
            ],
            "text/plain": [
              "                Year    Deaths  Adj-Deaths\n",
              "Year        1.000000  0.005517   -0.075103\n",
              "Deaths      0.005517  1.000000    0.583347\n",
              "Adj-Deaths -0.075103  0.583347    1.000000"
            ]
          },
          "metadata": {
            "tags": []
          },
          "execution_count": 43
        }
      ]
    }
  ]
}